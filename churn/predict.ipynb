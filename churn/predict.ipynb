{
 "cells": [
  {
   "cell_type": "code",
   "execution_count": 36,
   "id": "bd9d3b28",
   "metadata": {},
   "outputs": [
    {
     "data": {
      "text/plain": [
       "'2'"
      ]
     },
     "execution_count": 36,
     "metadata": {},
     "output_type": "execute_result"
    }
   ],
   "source": [
    "import pandas as pd\n",
    "import mlflow\n",
    "\n",
    "mlflow.set_tracking_uri(\"http://localhost:5000\")\n",
    "\n",
    "models =mlflow.search_registered_models(filter_string=\"name = 'model_churn'\")\n",
    "latest_version = max([i.version for i in models[0].latest_versions])\n",
    "latest_version\n",
    "\n"
   ]
  },
  {
   "cell_type": "code",
   "execution_count": 29,
   "id": "0d1ca02f",
   "metadata": {},
   "outputs": [
    {
     "data": {
      "text/plain": [
       "['qtdeDiasD14',\n",
       " 'propAvgQtdeDias',\n",
       " 'qtdeDiasPrimeiraTransacao',\n",
       " 'qtdeDiasUltimaTransacao',\n",
       " 'propAvgQtdePontosPos',\n",
       " 'propAvgSaldoPontos',\n",
       " 'propAvgQtdeTransacoes',\n",
       " 'propAvgMediaTransacoesDias',\n",
       " 'qtdeTransacoesD28',\n",
       " 'qtdePontosPos',\n",
       " 'qtdeDiasD28',\n",
       " 'qtdeTransacoesD7',\n",
       " 'qtdeChatMessage',\n",
       " 'mediaTransacoesDias',\n",
       " 'qtdeTransacoes',\n",
       " 'qtdePontosPosD7',\n",
       " 'saldoPontosD28',\n",
       " 'qtdePontosPosD28',\n",
       " 'qtdeDias',\n",
       " 'saldoPontos',\n",
       " 'qtdeTransacoesD14',\n",
       " 'saldoPontosD14',\n",
       " 'qtdePontosPosD14',\n",
       " 'qtdePresença',\n",
       " 'qtdSkuDistintos']"
      ]
     },
     "execution_count": 29,
     "metadata": {},
     "output_type": "execute_result"
    }
   ],
   "source": [
    "features = model.feature_names_in_\n",
    "features"
   ]
  },
  {
   "cell_type": "code",
   "execution_count": 30,
   "id": "9f80b917",
   "metadata": {},
   "outputs": [],
   "source": [
    "df = pd.read_csv(\"../data/abt_churn.csv\")\n",
    "amostra = df[df['dtRef'] == df['dtRef'].max()].sample(3)\n",
    "amostra = amostra.drop('flagChurn', axis=1)"
   ]
  },
  {
   "cell_type": "code",
   "execution_count": 31,
   "id": "e2aa98d3",
   "metadata": {},
   "outputs": [
    {
     "data": {
      "text/html": [
       "<div>\n",
       "<style scoped>\n",
       "    .dataframe tbody tr th:only-of-type {\n",
       "        vertical-align: middle;\n",
       "    }\n",
       "\n",
       "    .dataframe tbody tr th {\n",
       "        vertical-align: top;\n",
       "    }\n",
       "\n",
       "    .dataframe thead th {\n",
       "        text-align: right;\n",
       "    }\n",
       "</style>\n",
       "<table border=\"1\" class=\"dataframe\">\n",
       "  <thead>\n",
       "    <tr style=\"text-align: right;\">\n",
       "      <th></th>\n",
       "      <th>dtRef</th>\n",
       "      <th>idUsuario</th>\n",
       "      <th>qtdeTransacoes</th>\n",
       "      <th>qtdeDias</th>\n",
       "      <th>mediaTransacoesDias</th>\n",
       "      <th>saldoPontos</th>\n",
       "      <th>qtdePontosPos</th>\n",
       "      <th>qtdePontosNeg</th>\n",
       "      <th>qtdeDiasUltimaTransacao</th>\n",
       "      <th>qtdeDiasPrimeiraTransacao</th>\n",
       "      <th>...</th>\n",
       "      <th>saldoPontosD28</th>\n",
       "      <th>qtdePontosPosD28</th>\n",
       "      <th>qtdePontosNegD28</th>\n",
       "      <th>propAvgQtdeTransacoes</th>\n",
       "      <th>propAvgQtdeDias</th>\n",
       "      <th>propAvgMediaTransacoesDias</th>\n",
       "      <th>propAvgSaldoPontos</th>\n",
       "      <th>propAvgQtdePontosPos</th>\n",
       "      <th>propAvgQtdePontosNeg</th>\n",
       "      <th>proba</th>\n",
       "    </tr>\n",
       "  </thead>\n",
       "  <tbody>\n",
       "    <tr>\n",
       "      <th>2718</th>\n",
       "      <td>2025-04-01</td>\n",
       "      <td>748bb5c7-44c5-4841-b10a-6593a1b6208c</td>\n",
       "      <td>48</td>\n",
       "      <td>14</td>\n",
       "      <td>3.428571</td>\n",
       "      <td>734</td>\n",
       "      <td>734</td>\n",
       "      <td>0</td>\n",
       "      <td>1.0</td>\n",
       "      <td>88.0</td>\n",
       "      <td>...</td>\n",
       "      <td>254</td>\n",
       "      <td>254</td>\n",
       "      <td>0</td>\n",
       "      <td>0.589319</td>\n",
       "      <td>1.188914</td>\n",
       "      <td>0.867129</td>\n",
       "      <td>1.417334</td>\n",
       "      <td>0.778427</td>\n",
       "      <td>0.0</td>\n",
       "      <td>0.180000</td>\n",
       "    </tr>\n",
       "    <tr>\n",
       "      <th>818</th>\n",
       "      <td>2025-04-01</td>\n",
       "      <td>1b6103c1-4da4-4c81-8b4f-3568beaf98d5</td>\n",
       "      <td>1</td>\n",
       "      <td>1</td>\n",
       "      <td>1.000000</td>\n",
       "      <td>50</td>\n",
       "      <td>50</td>\n",
       "      <td>0</td>\n",
       "      <td>8.0</td>\n",
       "      <td>8.0</td>\n",
       "      <td>...</td>\n",
       "      <td>50</td>\n",
       "      <td>50</td>\n",
       "      <td>0</td>\n",
       "      <td>0.012277</td>\n",
       "      <td>0.084922</td>\n",
       "      <td>0.252913</td>\n",
       "      <td>0.096549</td>\n",
       "      <td>0.053026</td>\n",
       "      <td>0.0</td>\n",
       "      <td>0.916925</td>\n",
       "    </tr>\n",
       "    <tr>\n",
       "      <th>1701</th>\n",
       "      <td>2025-04-01</td>\n",
       "      <td>44a6eef6-d77b-40ec-8ec5-6918a54efdb8</td>\n",
       "      <td>82</td>\n",
       "      <td>42</td>\n",
       "      <td>1.952381</td>\n",
       "      <td>2140</td>\n",
       "      <td>2140</td>\n",
       "      <td>0</td>\n",
       "      <td>1.0</td>\n",
       "      <td>286.0</td>\n",
       "      <td>...</td>\n",
       "      <td>707</td>\n",
       "      <td>707</td>\n",
       "      <td>0</td>\n",
       "      <td>1.006753</td>\n",
       "      <td>3.566743</td>\n",
       "      <td>0.493782</td>\n",
       "      <td>4.132281</td>\n",
       "      <td>2.269527</td>\n",
       "      <td>0.0</td>\n",
       "      <td>0.020000</td>\n",
       "    </tr>\n",
       "  </tbody>\n",
       "</table>\n",
       "<p>3 rows × 43 columns</p>\n",
       "</div>"
      ],
      "text/plain": [
       "           dtRef                             idUsuario  qtdeTransacoes  \\\n",
       "2718  2025-04-01  748bb5c7-44c5-4841-b10a-6593a1b6208c              48   \n",
       "818   2025-04-01  1b6103c1-4da4-4c81-8b4f-3568beaf98d5               1   \n",
       "1701  2025-04-01  44a6eef6-d77b-40ec-8ec5-6918a54efdb8              82   \n",
       "\n",
       "      qtdeDias  mediaTransacoesDias  saldoPontos  qtdePontosPos  \\\n",
       "2718        14             3.428571          734            734   \n",
       "818          1             1.000000           50             50   \n",
       "1701        42             1.952381         2140           2140   \n",
       "\n",
       "      qtdePontosNeg  qtdeDiasUltimaTransacao  qtdeDiasPrimeiraTransacao  ...  \\\n",
       "2718              0                      1.0                       88.0  ...   \n",
       "818               0                      8.0                        8.0  ...   \n",
       "1701              0                      1.0                      286.0  ...   \n",
       "\n",
       "      saldoPontosD28  qtdePontosPosD28  qtdePontosNegD28  \\\n",
       "2718             254               254                 0   \n",
       "818               50                50                 0   \n",
       "1701             707               707                 0   \n",
       "\n",
       "      propAvgQtdeTransacoes  propAvgQtdeDias  propAvgMediaTransacoesDias  \\\n",
       "2718               0.589319         1.188914                    0.867129   \n",
       "818                0.012277         0.084922                    0.252913   \n",
       "1701               1.006753         3.566743                    0.493782   \n",
       "\n",
       "      propAvgSaldoPontos  propAvgQtdePontosPos  propAvgQtdePontosNeg     proba  \n",
       "2718            1.417334              0.778427                   0.0  0.180000  \n",
       "818             0.096549              0.053026                   0.0  0.916925  \n",
       "1701            4.132281              2.269527                   0.0  0.020000  \n",
       "\n",
       "[3 rows x 43 columns]"
      ]
     },
     "execution_count": 31,
     "metadata": {},
     "output_type": "execute_result"
    }
   ],
   "source": [
    "predicao = model.predict_proba(amostra[features])[:,1]\n",
    "amostra['proba'] = predicao\n",
    "amostra"
   ]
  },
  {
   "cell_type": "code",
   "execution_count": null,
   "id": "f65edbf1",
   "metadata": {},
   "outputs": [
    {
     "data": {
      "text/plain": [
       "'1'"
      ]
     },
     "execution_count": 35,
     "metadata": {},
     "output_type": "execute_result"
    }
   ],
   "source": []
  }
 ],
 "metadata": {
  "kernelspec": {
   "display_name": "venv",
   "language": "python",
   "name": "python3"
  },
  "language_info": {
   "codemirror_mode": {
    "name": "ipython",
    "version": 3
   },
   "file_extension": ".py",
   "mimetype": "text/x-python",
   "name": "python",
   "nbconvert_exporter": "python",
   "pygments_lexer": "ipython3",
   "version": "3.13.5"
  }
 },
 "nbformat": 4,
 "nbformat_minor": 5
}
